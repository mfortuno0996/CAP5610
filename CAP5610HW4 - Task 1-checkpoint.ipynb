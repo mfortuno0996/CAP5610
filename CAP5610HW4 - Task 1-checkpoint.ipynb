{
 "cells": [
  {
   "cell_type": "markdown",
   "metadata": {},
   "source": [
    "# Task 1"
   ]
  },
  {
   "cell_type": "markdown",
   "metadata": {},
   "source": [
    "## Part (a)"
   ]
  },
  {
   "cell_type": "code",
   "execution_count": 33,
   "metadata": {},
   "outputs": [
    {
     "name": "stdout",
     "output_type": "stream",
     "text": [
      "   # wins in 2016  # wins in 2017\n",
      "0               3               5\n",
      "1               3               4\n",
      "2               2               8\n",
      "3               2               3\n",
      "4               6               2\n",
      "5               6               4\n",
      "6               7               3\n",
      "7               7               4\n",
      "8               8               5\n",
      "9               7               6\n"
     ]
    }
   ],
   "source": [
    "import pandas as pd\n",
    "import numpy as np\n",
    "football_data = {'# wins in 2016':[3, 3, 2, 2, 6, 6, 7, 7, 8, 7],\n",
    "                '# wins in 2017':[5, 4, 8, 3, 2, 4, 3, 4, 5, 6]} #establishes football data\n",
    "task1_df = pd.DataFrame(football_data, columns = ['# wins in 2016','# wins in 2017']) #creates a dataframe out of data\n",
    "print(task1_df)"
   ]
  },
  {
   "cell_type": "code",
   "execution_count": 34,
   "metadata": {},
   "outputs": [],
   "source": [
    "X = np.array(task1_df) #converts dataframe into array"
   ]
  },
  {
   "cell_type": "code",
   "execution_count": 35,
   "metadata": {},
   "outputs": [
    {
     "name": "stdout",
     "output_type": "stream",
     "text": [
      "[[4, 6], [5, 4]]\n",
      "[[4 6]\n",
      " [5 4]]\n"
     ]
    }
   ],
   "source": [
    "centroids = [[4,6],[5,4]] #initialized centroid locations\n",
    "print(centroids)\n",
    "centroids = np.array(centroids) # converts centroid variable into numpy array\n",
    "print(centroids)"
   ]
  },
  {
   "cell_type": "code",
   "execution_count": 36,
   "metadata": {},
   "outputs": [],
   "source": [
    "def manhattan_distance(X1, X2):        #establishes the manhattan distance |X1-X2|\n",
    "    return sum(abs(X1-X2))"
   ]
  },
  {
   "cell_type": "code",
   "execution_count": 37,
   "metadata": {},
   "outputs": [],
   "source": [
    "def ClosestCentroid_Manhattan(ic, X): #assigns each row to the closest centroid based on Manhattan distance parameter\n",
    "    assigned_centroid = []\n",
    "    for i in X:\n",
    "        distance = []\n",
    "        for j in ic:\n",
    "            distance.append(manhattan_distance(i,j))\n",
    "        assigned_centroid.append(np.argmin(distance))\n",
    "    return assigned_centroid\n"
   ]
  },
  {
   "cell_type": "code",
   "execution_count": 38,
   "metadata": {},
   "outputs": [
    {
     "data": {
      "text/plain": [
       "[0, 1, 0, 1, 1, 1, 1, 1, 1, 0]"
      ]
     },
     "execution_count": 38,
     "metadata": {},
     "output_type": "execute_result"
    }
   ],
   "source": [
    "task1_clusters = ClosestCentroid_Manhattan(centroids, X) # 0 = # wins in 2016, 1 = # wins in 2017\n",
    "task1_clusters"
   ]
  },
  {
   "cell_type": "code",
   "execution_count": 39,
   "metadata": {},
   "outputs": [],
   "source": [
    "def calc_centroids(clusters, X): #calculates the new coordinates of the centroids after 1 iteration\n",
    "    new_centroids = []\n",
    "    new_df = pd.concat([pd.DataFrame(X), pd.DataFrame(clusters, columns=['cluster'])],\n",
    "                      axis=1)\n",
    "    for c in set(new_df['cluster']):\n",
    "        current_cluster = new_df[new_df['cluster'] == c][new_df.columns[:-1]]\n",
    "        cluster_mean = current_cluster.mean(axis=0)\n",
    "        new_centroids.append(cluster_mean)\n",
    "    return new_centroids"
   ]
  },
  {
   "cell_type": "code",
   "execution_count": 40,
   "metadata": {},
   "outputs": [
    {
     "data": {
      "text/plain": [
       "[0    4.000000\n",
       " 1    6.333333\n",
       " dtype: float64,\n",
       " 0    5.571429\n",
       " 1    3.571429\n",
       " dtype: float64]"
      ]
     },
     "execution_count": 40,
     "metadata": {},
     "output_type": "execute_result"
    }
   ],
   "source": [
    "task1_new_centroids = calc_centroids(task1_clusters, X) \n",
    "task1_new_centroids"
   ]
  },
  {
   "cell_type": "code",
   "execution_count": 41,
   "metadata": {},
   "outputs": [
    {
     "data": {
      "text/html": [
       "<div>\n",
       "<style scoped>\n",
       "    .dataframe tbody tr th:only-of-type {\n",
       "        vertical-align: middle;\n",
       "    }\n",
       "\n",
       "    .dataframe tbody tr th {\n",
       "        vertical-align: top;\n",
       "    }\n",
       "\n",
       "    .dataframe thead th {\n",
       "        text-align: right;\n",
       "    }\n",
       "</style>\n",
       "<table border=\"1\" class=\"dataframe\">\n",
       "  <thead>\n",
       "    <tr style=\"text-align: right;\">\n",
       "      <th></th>\n",
       "      <th># wins in 2016</th>\n",
       "      <th># wins in 2017</th>\n",
       "      <th>clusters</th>\n",
       "    </tr>\n",
       "  </thead>\n",
       "  <tbody>\n",
       "    <tr>\n",
       "      <th>0</th>\n",
       "      <td>3</td>\n",
       "      <td>5</td>\n",
       "      <td>0</td>\n",
       "    </tr>\n",
       "    <tr>\n",
       "      <th>1</th>\n",
       "      <td>3</td>\n",
       "      <td>4</td>\n",
       "      <td>1</td>\n",
       "    </tr>\n",
       "    <tr>\n",
       "      <th>2</th>\n",
       "      <td>2</td>\n",
       "      <td>8</td>\n",
       "      <td>0</td>\n",
       "    </tr>\n",
       "    <tr>\n",
       "      <th>3</th>\n",
       "      <td>2</td>\n",
       "      <td>3</td>\n",
       "      <td>1</td>\n",
       "    </tr>\n",
       "    <tr>\n",
       "      <th>4</th>\n",
       "      <td>6</td>\n",
       "      <td>2</td>\n",
       "      <td>1</td>\n",
       "    </tr>\n",
       "    <tr>\n",
       "      <th>5</th>\n",
       "      <td>6</td>\n",
       "      <td>4</td>\n",
       "      <td>1</td>\n",
       "    </tr>\n",
       "    <tr>\n",
       "      <th>6</th>\n",
       "      <td>7</td>\n",
       "      <td>3</td>\n",
       "      <td>1</td>\n",
       "    </tr>\n",
       "    <tr>\n",
       "      <th>7</th>\n",
       "      <td>7</td>\n",
       "      <td>4</td>\n",
       "      <td>1</td>\n",
       "    </tr>\n",
       "    <tr>\n",
       "      <th>8</th>\n",
       "      <td>8</td>\n",
       "      <td>5</td>\n",
       "      <td>1</td>\n",
       "    </tr>\n",
       "    <tr>\n",
       "      <th>9</th>\n",
       "      <td>7</td>\n",
       "      <td>6</td>\n",
       "      <td>0</td>\n",
       "    </tr>\n",
       "  </tbody>\n",
       "</table>\n",
       "</div>"
      ],
      "text/plain": [
       "   # wins in 2016  # wins in 2017  clusters\n",
       "0               3               5         0\n",
       "1               3               4         1\n",
       "2               2               8         0\n",
       "3               2               3         1\n",
       "4               6               2         1\n",
       "5               6               4         1\n",
       "6               7               3         1\n",
       "7               7               4         1\n",
       "8               8               5         1\n",
       "9               7               6         0"
      ]
     },
     "execution_count": 41,
     "metadata": {},
     "output_type": "execute_result"
    }
   ],
   "source": [
    "task1_df['clusters'] = task1_clusters #creates a new column that shows which index belongs to which cluster\n",
    "task1_df.head(10)"
   ]
  },
  {
   "cell_type": "code",
   "execution_count": 42,
   "metadata": {},
   "outputs": [
    {
     "data": {
      "text/plain": [
       "Text(0, 0.5, '# wins in 2017')"
      ]
     },
     "execution_count": 42,
     "metadata": {},
     "output_type": "execute_result"
    },
    {
     "data": {
      "image/png": "[encoded data removed]",
      "text/plain": [
       "<Figure size 432x288 with 1 Axes>"
      ]
     },
     "metadata": {
      "needs_background": "light"
     },
     "output_type": "display_data"
    }
   ],
   "source": [
    "import matplotlib.pyplot as plt \n",
    "df1= task1_df[task1_df.clusters==0] #creates the dataframe for all points by which clusters = 0\n",
    "df2= task1_df[task1_df.clusters==1] #creates the dataframe for all points by which clusters = 1\n",
    "\n",
    "plt.scatter(df1['# wins in 2016'],df1['# wins in 2017'],color='green') # plots all cluster = 0 points\n",
    "plt.scatter(df2['# wins in 2016'],df2['# wins in 2017'],color='blue') # plots all cluster = 1 points\n",
    "plt.scatter(np.array(centroids)[:, 0], np.array(centroids)[:, 1], color='black') # plots both original centroids\n",
    "plt.title('Part (a): Manhattan Distance')\n",
    "plt.xlabel('# wins in 2016')\n",
    "plt.ylabel('# wins in 2017')"
   ]
  },
  {
   "cell_type": "markdown",
   "metadata": {},
   "source": [
    "## Part (b)"
   ]
  },
  {
   "cell_type": "code",
   "execution_count": 44,
   "metadata": {},
   "outputs": [
    {
     "data": {
      "text/html": [
       "<div>\n",
       "<style scoped>\n",
       "    .dataframe tbody tr th:only-of-type {\n",
       "        vertical-align: middle;\n",
       "    }\n",
       "\n",
       "    .dataframe tbody tr th {\n",
       "        vertical-align: top;\n",
       "    }\n",
       "\n",
       "    .dataframe thead th {\n",
       "        text-align: right;\n",
       "    }\n",
       "</style>\n",
       "<table border=\"1\" class=\"dataframe\">\n",
       "  <thead>\n",
       "    <tr style=\"text-align: right;\">\n",
       "      <th></th>\n",
       "      <th># wins in 2016</th>\n",
       "      <th># wins in 2017</th>\n",
       "    </tr>\n",
       "  </thead>\n",
       "  <tbody>\n",
       "    <tr>\n",
       "      <th>0</th>\n",
       "      <td>3</td>\n",
       "      <td>5</td>\n",
       "    </tr>\n",
       "    <tr>\n",
       "      <th>1</th>\n",
       "      <td>3</td>\n",
       "      <td>4</td>\n",
       "    </tr>\n",
       "    <tr>\n",
       "      <th>2</th>\n",
       "      <td>2</td>\n",
       "      <td>8</td>\n",
       "    </tr>\n",
       "    <tr>\n",
       "      <th>3</th>\n",
       "      <td>2</td>\n",
       "      <td>3</td>\n",
       "    </tr>\n",
       "    <tr>\n",
       "      <th>4</th>\n",
       "      <td>6</td>\n",
       "      <td>2</td>\n",
       "    </tr>\n",
       "    <tr>\n",
       "      <th>5</th>\n",
       "      <td>6</td>\n",
       "      <td>4</td>\n",
       "    </tr>\n",
       "    <tr>\n",
       "      <th>6</th>\n",
       "      <td>7</td>\n",
       "      <td>3</td>\n",
       "    </tr>\n",
       "    <tr>\n",
       "      <th>7</th>\n",
       "      <td>7</td>\n",
       "      <td>4</td>\n",
       "    </tr>\n",
       "    <tr>\n",
       "      <th>8</th>\n",
       "      <td>8</td>\n",
       "      <td>5</td>\n",
       "    </tr>\n",
       "    <tr>\n",
       "      <th>9</th>\n",
       "      <td>7</td>\n",
       "      <td>6</td>\n",
       "    </tr>\n",
       "  </tbody>\n",
       "</table>\n",
       "</div>"
      ],
      "text/plain": [
       "   # wins in 2016  # wins in 2017\n",
       "0               3               5\n",
       "1               3               4\n",
       "2               2               8\n",
       "3               2               3\n",
       "4               6               2\n",
       "5               6               4\n",
       "6               7               3\n",
       "7               7               4\n",
       "8               8               5\n",
       "9               7               6"
      ]
     },
     "execution_count": 44,
     "metadata": {},
     "output_type": "execute_result"
    }
   ],
   "source": [
    "task2_df = pd.DataFrame(football_data, columns = ['# wins in 2016','# wins in 2017'])\n",
    "task2_df"
   ]
  },
  {
   "cell_type": "code",
   "execution_count": 45,
   "metadata": {},
   "outputs": [
    {
     "name": "stdout",
     "output_type": "stream",
     "text": [
      "[[4, 6], [5, 4]]\n",
      "[[4 6]\n",
      " [5 4]]\n"
     ]
    }
   ],
   "source": [
    "centroids = [[4,6],[5,4]] #initialized centroid locations\n",
    "print(centroids)\n",
    "centroids = np.array(centroids) # converts centroid variable into numpy array\n",
    "print(centroids)"
   ]
  },
  {
   "cell_type": "code",
   "execution_count": 46,
   "metadata": {},
   "outputs": [],
   "source": [
    "def Euclidean_distance(X1,X2): #defining the euclidean distance function\n",
    "    return(sum((X1 - X2)**2))**0.5"
   ]
  },
  {
   "cell_type": "code",
   "execution_count": 47,
   "metadata": {},
   "outputs": [],
   "source": [
    "def ClosestCentroid_Euclidean(ic, X): #assigns each row to the closest centroid based on Euclidean distance parameter\n",
    "    assigned_centroid = []\n",
    "    for i in X:\n",
    "        distance = []\n",
    "        for j in ic:\n",
    "            distance.append(Euclidean_distance(i,j))\n",
    "        assigned_centroid.append(np.argmin(distance))\n",
    "    return assigned_centroid"
   ]
  },
  {
   "cell_type": "code",
   "execution_count": 48,
   "metadata": {},
   "outputs": [
    {
     "data": {
      "text/plain": [
       "[0, 1, 0, 1, 1, 1, 1, 1, 1, 1]"
      ]
     },
     "execution_count": 48,
     "metadata": {},
     "output_type": "execute_result"
    }
   ],
   "source": [
    "task2_clusters = ClosestCentroid_Euclidean(centroids, X) # 0 = # wins in 2016, 1 = # wins in 2017\n",
    "task2_clusters"
   ]
  },
  {
   "cell_type": "code",
   "execution_count": 49,
   "metadata": {},
   "outputs": [
    {
     "data": {
      "text/plain": [
       "[0    2.5\n",
       " 1    6.5\n",
       " dtype: float64,\n",
       " 0    5.750\n",
       " 1    3.875\n",
       " dtype: float64]"
      ]
     },
     "execution_count": 49,
     "metadata": {},
     "output_type": "execute_result"
    }
   ],
   "source": [
    "task2_new_centroids = calc_centroids(task2_clusters, X) \n",
    "task2_new_centroids"
   ]
  },
  {
   "cell_type": "code",
   "execution_count": 50,
   "metadata": {},
   "outputs": [
    {
     "data": {
      "text/html": [
       "<div>\n",
       "<style scoped>\n",
       "    .dataframe tbody tr th:only-of-type {\n",
       "        vertical-align: middle;\n",
       "    }\n",
       "\n",
       "    .dataframe tbody tr th {\n",
       "        vertical-align: top;\n",
       "    }\n",
       "\n",
       "    .dataframe thead th {\n",
       "        text-align: right;\n",
       "    }\n",
       "</style>\n",
       "<table border=\"1\" class=\"dataframe\">\n",
       "  <thead>\n",
       "    <tr style=\"text-align: right;\">\n",
       "      <th></th>\n",
       "      <th># wins in 2016</th>\n",
       "      <th># wins in 2017</th>\n",
       "      <th>clusters</th>\n",
       "    </tr>\n",
       "  </thead>\n",
       "  <tbody>\n",
       "    <tr>\n",
       "      <th>0</th>\n",
       "      <td>3</td>\n",
       "      <td>5</td>\n",
       "      <td>0</td>\n",
       "    </tr>\n",
       "    <tr>\n",
       "      <th>1</th>\n",
       "      <td>3</td>\n",
       "      <td>4</td>\n",
       "      <td>1</td>\n",
       "    </tr>\n",
       "    <tr>\n",
       "      <th>2</th>\n",
       "      <td>2</td>\n",
       "      <td>8</td>\n",
       "      <td>0</td>\n",
       "    </tr>\n",
       "    <tr>\n",
       "      <th>3</th>\n",
       "      <td>2</td>\n",
       "      <td>3</td>\n",
       "      <td>1</td>\n",
       "    </tr>\n",
       "    <tr>\n",
       "      <th>4</th>\n",
       "      <td>6</td>\n",
       "      <td>2</td>\n",
       "      <td>1</td>\n",
       "    </tr>\n",
       "    <tr>\n",
       "      <th>5</th>\n",
       "      <td>6</td>\n",
       "      <td>4</td>\n",
       "      <td>1</td>\n",
       "    </tr>\n",
       "    <tr>\n",
       "      <th>6</th>\n",
       "      <td>7</td>\n",
       "      <td>3</td>\n",
       "      <td>1</td>\n",
       "    </tr>\n",
       "    <tr>\n",
       "      <th>7</th>\n",
       "      <td>7</td>\n",
       "      <td>4</td>\n",
       "      <td>1</td>\n",
       "    </tr>\n",
       "    <tr>\n",
       "      <th>8</th>\n",
       "      <td>8</td>\n",
       "      <td>5</td>\n",
       "      <td>1</td>\n",
       "    </tr>\n",
       "    <tr>\n",
       "      <th>9</th>\n",
       "      <td>7</td>\n",
       "      <td>6</td>\n",
       "      <td>1</td>\n",
       "    </tr>\n",
       "  </tbody>\n",
       "</table>\n",
       "</div>"
      ],
      "text/plain": [
       "   # wins in 2016  # wins in 2017  clusters\n",
       "0               3               5         0\n",
       "1               3               4         1\n",
       "2               2               8         0\n",
       "3               2               3         1\n",
       "4               6               2         1\n",
       "5               6               4         1\n",
       "6               7               3         1\n",
       "7               7               4         1\n",
       "8               8               5         1\n",
       "9               7               6         1"
      ]
     },
     "execution_count": 50,
     "metadata": {},
     "output_type": "execute_result"
    }
   ],
   "source": [
    "task2_df['clusters'] = task2_clusters #creates a new column that shows which index belongs to which cluster\n",
    "task2_df.head(10)"
   ]
  },
  {
   "cell_type": "code",
   "execution_count": 51,
   "metadata": {},
   "outputs": [
    {
     "data": {
      "text/plain": [
       "Text(0, 0.5, '# wins in 2017')"
      ]
     },
     "execution_count": 51,
     "metadata": {},
     "output_type": "execute_result"
    },
    {
     "data": {
      "image/png": "[encoded data removed]",
      "text/plain": [
       "<Figure size 432x288 with 1 Axes>"
      ]
     },
     "metadata": {
      "needs_background": "light"
     },
     "output_type": "display_data"
    }
   ],
   "source": [
    "df1= task2_df[task2_df.clusters==0] #creates the dataframe for all points by which clusters = 0\n",
    "df2= task2_df[task2_df.clusters==1] #creates the dataframe for all points by which clusters = 1\n",
    "\n",
    "plt.scatter(df1['# wins in 2016'],df1['# wins in 2017'],color='green') # plots all cluster = 0 points\n",
    "plt.scatter(df2['# wins in 2016'],df2['# wins in 2017'],color='blue') # plots all cluster = 1 points\n",
    "plt.scatter(np.array(centroids)[:, 0], np.array(centroids)[:, 1], color='black') # plots both original centroids\n",
    "plt.title('Part (b): Euclidean Distance')\n",
    "plt.xlabel('# wins in 2016')\n",
    "plt.ylabel('# wins in 2017')"
   ]
  },
  {
   "cell_type": "markdown",
   "metadata": {},
   "source": [
    "## Part (c)"
   ]
  },
  {
   "cell_type": "code",
   "execution_count": 56,
   "metadata": {},
   "outputs": [
    {
     "name": "stdout",
     "output_type": "stream",
     "text": [
      "   # wins in 2016  # wins in 2017\n",
      "0               3               5\n",
      "1               3               4\n",
      "2               2               8\n",
      "3               2               3\n",
      "4               6               2\n",
      "5               6               4\n",
      "6               7               3\n",
      "7               7               4\n",
      "8               8               5\n",
      "9               7               6\n"
     ]
    }
   ],
   "source": [
    "task3_df = pd.DataFrame(football_data, columns = ['# wins in 2016','# wins in 2017']) #creates a dataframe out of data\n",
    "print(task3_df)"
   ]
  },
  {
   "cell_type": "code",
   "execution_count": 57,
   "metadata": {},
   "outputs": [
    {
     "name": "stdout",
     "output_type": "stream",
     "text": [
      "[[3, 3], [8, 3]]\n",
      "[[3 3]\n",
      " [8 3]]\n"
     ]
    }
   ],
   "source": [
    "centroids = [[3,3],[8,3]] #initialized centroid locations\n",
    "print(centroids)\n",
    "centroids = np.array(centroids) # converts centroid variable into numpy array\n",
    "print(centroids)"
   ]
  },
  {
   "cell_type": "code",
   "execution_count": 58,
   "metadata": {},
   "outputs": [
    {
     "data": {
      "text/plain": [
       "[0, 0, 0, 0, 1, 1, 1, 1, 1, 1]"
      ]
     },
     "execution_count": 58,
     "metadata": {},
     "output_type": "execute_result"
    }
   ],
   "source": [
    "task3_clusters = ClosestCentroid_Manhattan(centroids, X) # 0 = # wins in 2016, 1 = # wins in 2017\n",
    "task3_clusters"
   ]
  },
  {
   "cell_type": "code",
   "execution_count": 59,
   "metadata": {},
   "outputs": [
    {
     "data": {
      "text/plain": [
       "[0    2.5\n",
       " 1    5.0\n",
       " dtype: float64,\n",
       " 0    6.833333\n",
       " 1    4.000000\n",
       " dtype: float64]"
      ]
     },
     "execution_count": 59,
     "metadata": {},
     "output_type": "execute_result"
    }
   ],
   "source": [
    "task3_new_centroids = calc_centroids(task3_clusters, X) \n",
    "task3_new_centroids"
   ]
  },
  {
   "cell_type": "code",
   "execution_count": 60,
   "metadata": {},
   "outputs": [
    {
     "data": {
      "text/html": [
       "<div>\n",
       "<style scoped>\n",
       "    .dataframe tbody tr th:only-of-type {\n",
       "        vertical-align: middle;\n",
       "    }\n",
       "\n",
       "    .dataframe tbody tr th {\n",
       "        vertical-align: top;\n",
       "    }\n",
       "\n",
       "    .dataframe thead th {\n",
       "        text-align: right;\n",
       "    }\n",
       "</style>\n",
       "<table border=\"1\" class=\"dataframe\">\n",
       "  <thead>\n",
       "    <tr style=\"text-align: right;\">\n",
       "      <th></th>\n",
       "      <th># wins in 2016</th>\n",
       "      <th># wins in 2017</th>\n",
       "      <th>clusters</th>\n",
       "    </tr>\n",
       "  </thead>\n",
       "  <tbody>\n",
       "    <tr>\n",
       "      <th>0</th>\n",
       "      <td>3</td>\n",
       "      <td>5</td>\n",
       "      <td>0</td>\n",
       "    </tr>\n",
       "    <tr>\n",
       "      <th>1</th>\n",
       "      <td>3</td>\n",
       "      <td>4</td>\n",
       "      <td>0</td>\n",
       "    </tr>\n",
       "    <tr>\n",
       "      <th>2</th>\n",
       "      <td>2</td>\n",
       "      <td>8</td>\n",
       "      <td>0</td>\n",
       "    </tr>\n",
       "    <tr>\n",
       "      <th>3</th>\n",
       "      <td>2</td>\n",
       "      <td>3</td>\n",
       "      <td>0</td>\n",
       "    </tr>\n",
       "    <tr>\n",
       "      <th>4</th>\n",
       "      <td>6</td>\n",
       "      <td>2</td>\n",
       "      <td>1</td>\n",
       "    </tr>\n",
       "    <tr>\n",
       "      <th>5</th>\n",
       "      <td>6</td>\n",
       "      <td>4</td>\n",
       "      <td>1</td>\n",
       "    </tr>\n",
       "    <tr>\n",
       "      <th>6</th>\n",
       "      <td>7</td>\n",
       "      <td>3</td>\n",
       "      <td>1</td>\n",
       "    </tr>\n",
       "    <tr>\n",
       "      <th>7</th>\n",
       "      <td>7</td>\n",
       "      <td>4</td>\n",
       "      <td>1</td>\n",
       "    </tr>\n",
       "    <tr>\n",
       "      <th>8</th>\n",
       "      <td>8</td>\n",
       "      <td>5</td>\n",
       "      <td>1</td>\n",
       "    </tr>\n",
       "    <tr>\n",
       "      <th>9</th>\n",
       "      <td>7</td>\n",
       "      <td>6</td>\n",
       "      <td>1</td>\n",
       "    </tr>\n",
       "  </tbody>\n",
       "</table>\n",
       "</div>"
      ],
      "text/plain": [
       "   # wins in 2016  # wins in 2017  clusters\n",
       "0               3               5         0\n",
       "1               3               4         0\n",
       "2               2               8         0\n",
       "3               2               3         0\n",
       "4               6               2         1\n",
       "5               6               4         1\n",
       "6               7               3         1\n",
       "7               7               4         1\n",
       "8               8               5         1\n",
       "9               7               6         1"
      ]
     },
     "execution_count": 60,
     "metadata": {},
     "output_type": "execute_result"
    }
   ],
   "source": [
    "task3_df['clusters'] = task3_clusters #creates a new column that shows which index belongs to which cluster\n",
    "task3_df.head(10)"
   ]
  },
  {
   "cell_type": "code",
   "execution_count": 61,
   "metadata": {},
   "outputs": [
    {
     "data": {
      "text/plain": [
       "Text(0, 0.5, '# wins in 2017')"
      ]
     },
     "execution_count": 61,
     "metadata": {},
     "output_type": "execute_result"
    },
    {
     "data": {
      "image/png": "[encoded data removed]",
      "text/plain": [
       "<Figure size 432x288 with 1 Axes>"
      ]
     },
     "metadata": {
      "needs_background": "light"
     },
     "output_type": "display_data"
    }
   ],
   "source": [
    "df1= task3_df[task3_df.clusters==0] #creates the dataframe for all points by which clusters = 0\n",
    "df2= task3_df[task3_df.clusters==1] #creates the dataframe for all points by which clusters = 1\n",
    "\n",
    "plt.scatter(df1['# wins in 2016'],df1['# wins in 2017'],color='green') # plots all cluster = 0 points\n",
    "plt.scatter(df2['# wins in 2016'],df2['# wins in 2017'],color='blue') # plots all cluster = 1 points\n",
    "plt.scatter(np.array(centroids)[:, 0], np.array(centroids)[:, 1], color='black') # plots both original centroids\n",
    "plt.title('Part (c): Manhattan Distance')\n",
    "plt.xlabel('# wins in 2016')\n",
    "plt.ylabel('# wins in 2017')"
   ]
  },
  {
   "cell_type": "markdown",
   "metadata": {},
   "source": [
    "## Part (d)"
   ]
  },
  {
   "cell_type": "code",
   "execution_count": 62,
   "metadata": {},
   "outputs": [
    {
     "name": "stdout",
     "output_type": "stream",
     "text": [
      "   # wins in 2016  # wins in 2017\n",
      "0               3               5\n",
      "1               3               4\n",
      "2               2               8\n",
      "3               2               3\n",
      "4               6               2\n",
      "5               6               4\n",
      "6               7               3\n",
      "7               7               4\n",
      "8               8               5\n",
      "9               7               6\n"
     ]
    }
   ],
   "source": [
    "task4_df = pd.DataFrame(football_data, columns = ['# wins in 2016','# wins in 2017']) #creates a dataframe out of data\n",
    "print(task4_df)"
   ]
  },
  {
   "cell_type": "code",
   "execution_count": 63,
   "metadata": {},
   "outputs": [
    {
     "name": "stdout",
     "output_type": "stream",
     "text": [
      "[[3, 2], [4, 8]]\n",
      "[[3 2]\n",
      " [4 8]]\n"
     ]
    }
   ],
   "source": [
    "centroids = [[3,2],[4,8]] #initialized centroid locations\n",
    "print(centroids)\n",
    "centroids = np.array(centroids) # converts centroid variable into numpy array\n",
    "print(centroids)"
   ]
  },
  {
   "cell_type": "code",
   "execution_count": 64,
   "metadata": {},
   "outputs": [
    {
     "data": {
      "text/plain": [
       "[0, 0, 1, 0, 0, 0, 0, 0, 1, 1]"
      ]
     },
     "execution_count": 64,
     "metadata": {},
     "output_type": "execute_result"
    }
   ],
   "source": [
    "task4_clusters = ClosestCentroid_Manhattan(centroids, X) # 0 = # wins in 2016, 1 = # wins in 2017\n",
    "task4_clusters"
   ]
  },
  {
   "cell_type": "code",
   "execution_count": 65,
   "metadata": {},
   "outputs": [
    {
     "data": {
      "text/plain": [
       "[0    4.857143\n",
       " 1    3.571429\n",
       " dtype: float64,\n",
       " 0    5.666667\n",
       " 1    6.333333\n",
       " dtype: float64]"
      ]
     },
     "execution_count": 65,
     "metadata": {},
     "output_type": "execute_result"
    }
   ],
   "source": [
    "task4_new_centroids = calc_centroids(task4_clusters, X) \n",
    "task4_new_centroids"
   ]
  },
  {
   "cell_type": "code",
   "execution_count": 67,
   "metadata": {},
   "outputs": [
    {
     "data": {
      "text/html": [
       "<div>\n",
       "<style scoped>\n",
       "    .dataframe tbody tr th:only-of-type {\n",
       "        vertical-align: middle;\n",
       "    }\n",
       "\n",
       "    .dataframe tbody tr th {\n",
       "        vertical-align: top;\n",
       "    }\n",
       "\n",
       "    .dataframe thead th {\n",
       "        text-align: right;\n",
       "    }\n",
       "</style>\n",
       "<table border=\"1\" class=\"dataframe\">\n",
       "  <thead>\n",
       "    <tr style=\"text-align: right;\">\n",
       "      <th></th>\n",
       "      <th># wins in 2016</th>\n",
       "      <th># wins in 2017</th>\n",
       "      <th>clusters</th>\n",
       "    </tr>\n",
       "  </thead>\n",
       "  <tbody>\n",
       "    <tr>\n",
       "      <th>0</th>\n",
       "      <td>3</td>\n",
       "      <td>5</td>\n",
       "      <td>0</td>\n",
       "    </tr>\n",
       "    <tr>\n",
       "      <th>1</th>\n",
       "      <td>3</td>\n",
       "      <td>4</td>\n",
       "      <td>0</td>\n",
       "    </tr>\n",
       "    <tr>\n",
       "      <th>2</th>\n",
       "      <td>2</td>\n",
       "      <td>8</td>\n",
       "      <td>1</td>\n",
       "    </tr>\n",
       "    <tr>\n",
       "      <th>3</th>\n",
       "      <td>2</td>\n",
       "      <td>3</td>\n",
       "      <td>0</td>\n",
       "    </tr>\n",
       "    <tr>\n",
       "      <th>4</th>\n",
       "      <td>6</td>\n",
       "      <td>2</td>\n",
       "      <td>0</td>\n",
       "    </tr>\n",
       "    <tr>\n",
       "      <th>5</th>\n",
       "      <td>6</td>\n",
       "      <td>4</td>\n",
       "      <td>0</td>\n",
       "    </tr>\n",
       "    <tr>\n",
       "      <th>6</th>\n",
       "      <td>7</td>\n",
       "      <td>3</td>\n",
       "      <td>0</td>\n",
       "    </tr>\n",
       "    <tr>\n",
       "      <th>7</th>\n",
       "      <td>7</td>\n",
       "      <td>4</td>\n",
       "      <td>0</td>\n",
       "    </tr>\n",
       "    <tr>\n",
       "      <th>8</th>\n",
       "      <td>8</td>\n",
       "      <td>5</td>\n",
       "      <td>1</td>\n",
       "    </tr>\n",
       "    <tr>\n",
       "      <th>9</th>\n",
       "      <td>7</td>\n",
       "      <td>6</td>\n",
       "      <td>1</td>\n",
       "    </tr>\n",
       "  </tbody>\n",
       "</table>\n",
       "</div>"
      ],
      "text/plain": [
       "   # wins in 2016  # wins in 2017  clusters\n",
       "0               3               5         0\n",
       "1               3               4         0\n",
       "2               2               8         1\n",
       "3               2               3         0\n",
       "4               6               2         0\n",
       "5               6               4         0\n",
       "6               7               3         0\n",
       "7               7               4         0\n",
       "8               8               5         1\n",
       "9               7               6         1"
      ]
     },
     "execution_count": 67,
     "metadata": {},
     "output_type": "execute_result"
    }
   ],
   "source": [
    "task4_df['clusters'] = task4_clusters #creates a new column that shows which index belongs to which cluster\n",
    "task4_df.head(10)"
   ]
  },
  {
   "cell_type": "code",
   "execution_count": 68,
   "metadata": {},
   "outputs": [
    {
     "data": {
      "text/plain": [
       "Text(0, 0.5, '# wins in 2017')"
      ]
     },
     "execution_count": 68,
     "metadata": {},
     "output_type": "execute_result"
    },
    {
     "data": {
      "image/png": "[encoded data removed]",
      "text/plain": [
       "<Figure size 432x288 with 1 Axes>"
      ]
     },
     "metadata": {
      "needs_background": "light"
     },
     "output_type": "display_data"
    }
   ],
   "source": [
    "df1= task4_df[task4_df.clusters==0] #creates the dataframe for all points by which clusters = 0\n",
    "df2= task4_df[task4_df.clusters==1] #creates the dataframe for all points by which clusters = 1\n",
    "\n",
    "plt.scatter(df1['# wins in 2016'],df1['# wins in 2017'],color='green') # plots all cluster = 0 points\n",
    "plt.scatter(df2['# wins in 2016'],df2['# wins in 2017'],color='blue') # plots all cluster = 1 points\n",
    "plt.scatter(np.array(centroids)[:, 0], np.array(centroids)[:, 1], color='black') # plots both original centroids\n",
    "plt.title('Part (d): Manhattan Distance')\n",
    "plt.xlabel('# wins in 2016')\n",
    "plt.ylabel('# wins in 2017')"
   ]
  },
  {
   "cell_type": "code",
   "execution_count": null,
   "metadata": {},
   "outputs": [],
   "source": []
  }
 ],
 "metadata": {
  "kernelspec": {
   "display_name": "Python 3",
   "language": "python",
   "name": "python3"
  },
  "language_info": {
   "codemirror_mode": {
    "name": "ipython",
    "version": 3
   },
   "file_extension": ".py",
   "mimetype": "text/x-python",
   "name": "python",
   "nbconvert_exporter": "python",
   "pygments_lexer": "ipython3",
   "version": "3.8.5"
  }
 },
 "nbformat": 4,
 "nbformat_minor": 4
}
