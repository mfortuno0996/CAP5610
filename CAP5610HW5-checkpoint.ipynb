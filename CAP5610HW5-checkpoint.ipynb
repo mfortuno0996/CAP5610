{
 "cells": [
  {
   "cell_type": "markdown",
   "metadata": {},
   "source": [
    "# HW 5"
   ]
  },
  {
   "cell_type": "code",
   "execution_count": 7,
   "metadata": {},
   "outputs": [],
   "source": [
    "import pandas as pd"
   ]
  },
  {
   "cell_type": "markdown",
   "metadata": {},
   "source": [
    "## Part A"
   ]
  },
  {
   "cell_type": "code",
   "execution_count": 8,
   "metadata": {},
   "outputs": [
    {
     "data": {
      "text/html": [
       "<div>\n",
       "<style scoped>\n",
       "    .dataframe tbody tr th:only-of-type {\n",
       "        vertical-align: middle;\n",
       "    }\n",
       "\n",
       "    .dataframe tbody tr th {\n",
       "        vertical-align: top;\n",
       "    }\n",
       "\n",
       "    .dataframe thead th {\n",
       "        text-align: right;\n",
       "    }\n",
       "</style>\n",
       "<table border=\"1\" class=\"dataframe\">\n",
       "  <thead>\n",
       "    <tr style=\"text-align: right;\">\n",
       "      <th></th>\n",
       "      <th>userId</th>\n",
       "      <th>movieId</th>\n",
       "      <th>rating</th>\n",
       "      <th>timestamp</th>\n",
       "    </tr>\n",
       "  </thead>\n",
       "  <tbody>\n",
       "    <tr>\n",
       "      <th>0</th>\n",
       "      <td>1</td>\n",
       "      <td>31</td>\n",
       "      <td>2.5</td>\n",
       "      <td>1260759144</td>\n",
       "    </tr>\n",
       "    <tr>\n",
       "      <th>1</th>\n",
       "      <td>1</td>\n",
       "      <td>1029</td>\n",
       "      <td>3.0</td>\n",
       "      <td>1260759179</td>\n",
       "    </tr>\n",
       "    <tr>\n",
       "      <th>2</th>\n",
       "      <td>1</td>\n",
       "      <td>1061</td>\n",
       "      <td>3.0</td>\n",
       "      <td>1260759182</td>\n",
       "    </tr>\n",
       "    <tr>\n",
       "      <th>3</th>\n",
       "      <td>1</td>\n",
       "      <td>1129</td>\n",
       "      <td>2.0</td>\n",
       "      <td>1260759185</td>\n",
       "    </tr>\n",
       "    <tr>\n",
       "      <th>4</th>\n",
       "      <td>1</td>\n",
       "      <td>1172</td>\n",
       "      <td>4.0</td>\n",
       "      <td>1260759205</td>\n",
       "    </tr>\n",
       "    <tr>\n",
       "      <th>...</th>\n",
       "      <td>...</td>\n",
       "      <td>...</td>\n",
       "      <td>...</td>\n",
       "      <td>...</td>\n",
       "    </tr>\n",
       "    <tr>\n",
       "      <th>99999</th>\n",
       "      <td>671</td>\n",
       "      <td>6268</td>\n",
       "      <td>2.5</td>\n",
       "      <td>1065579370</td>\n",
       "    </tr>\n",
       "    <tr>\n",
       "      <th>100000</th>\n",
       "      <td>671</td>\n",
       "      <td>6269</td>\n",
       "      <td>4.0</td>\n",
       "      <td>1065149201</td>\n",
       "    </tr>\n",
       "    <tr>\n",
       "      <th>100001</th>\n",
       "      <td>671</td>\n",
       "      <td>6365</td>\n",
       "      <td>4.0</td>\n",
       "      <td>1070940363</td>\n",
       "    </tr>\n",
       "    <tr>\n",
       "      <th>100002</th>\n",
       "      <td>671</td>\n",
       "      <td>6385</td>\n",
       "      <td>2.5</td>\n",
       "      <td>1070979663</td>\n",
       "    </tr>\n",
       "    <tr>\n",
       "      <th>100003</th>\n",
       "      <td>671</td>\n",
       "      <td>6565</td>\n",
       "      <td>3.5</td>\n",
       "      <td>1074784724</td>\n",
       "    </tr>\n",
       "  </tbody>\n",
       "</table>\n",
       "<p>100004 rows × 4 columns</p>\n",
       "</div>"
      ],
      "text/plain": [
       "        userId  movieId  rating   timestamp\n",
       "0            1       31     2.5  1260759144\n",
       "1            1     1029     3.0  1260759179\n",
       "2            1     1061     3.0  1260759182\n",
       "3            1     1129     2.0  1260759185\n",
       "4            1     1172     4.0  1260759205\n",
       "...        ...      ...     ...         ...\n",
       "99999      671     6268     2.5  1065579370\n",
       "100000     671     6269     4.0  1065149201\n",
       "100001     671     6365     4.0  1070940363\n",
       "100002     671     6385     2.5  1070979663\n",
       "100003     671     6565     3.5  1074784724\n",
       "\n",
       "[100004 rows x 4 columns]"
      ]
     },
     "execution_count": 8,
     "metadata": {},
     "output_type": "execute_result"
    }
   ],
   "source": [
    "ratings_small_original = pd.read_csv('CAP5610HW5/ratings_small.csv') #turning .csv file into dataframe\n",
    "ratings_small_original"
   ]
  },
  {
   "cell_type": "code",
   "execution_count": 10,
   "metadata": {},
   "outputs": [
    {
     "data": {
      "text/html": [
       "<div>\n",
       "<style scoped>\n",
       "    .dataframe tbody tr th:only-of-type {\n",
       "        vertical-align: middle;\n",
       "    }\n",
       "\n",
       "    .dataframe tbody tr th {\n",
       "        vertical-align: top;\n",
       "    }\n",
       "\n",
       "    .dataframe thead th {\n",
       "        text-align: right;\n",
       "    }\n",
       "</style>\n",
       "<table border=\"1\" class=\"dataframe\">\n",
       "  <thead>\n",
       "    <tr style=\"text-align: right;\">\n",
       "      <th></th>\n",
       "      <th>userId</th>\n",
       "      <th>movieId</th>\n",
       "      <th>rating</th>\n",
       "    </tr>\n",
       "  </thead>\n",
       "  <tbody>\n",
       "    <tr>\n",
       "      <th>0</th>\n",
       "      <td>1</td>\n",
       "      <td>31</td>\n",
       "      <td>2.5</td>\n",
       "    </tr>\n",
       "    <tr>\n",
       "      <th>1</th>\n",
       "      <td>1</td>\n",
       "      <td>1029</td>\n",
       "      <td>3.0</td>\n",
       "    </tr>\n",
       "    <tr>\n",
       "      <th>2</th>\n",
       "      <td>1</td>\n",
       "      <td>1061</td>\n",
       "      <td>3.0</td>\n",
       "    </tr>\n",
       "    <tr>\n",
       "      <th>3</th>\n",
       "      <td>1</td>\n",
       "      <td>1129</td>\n",
       "      <td>2.0</td>\n",
       "    </tr>\n",
       "    <tr>\n",
       "      <th>4</th>\n",
       "      <td>1</td>\n",
       "      <td>1172</td>\n",
       "      <td>4.0</td>\n",
       "    </tr>\n",
       "    <tr>\n",
       "      <th>...</th>\n",
       "      <td>...</td>\n",
       "      <td>...</td>\n",
       "      <td>...</td>\n",
       "    </tr>\n",
       "    <tr>\n",
       "      <th>99999</th>\n",
       "      <td>671</td>\n",
       "      <td>6268</td>\n",
       "      <td>2.5</td>\n",
       "    </tr>\n",
       "    <tr>\n",
       "      <th>100000</th>\n",
       "      <td>671</td>\n",
       "      <td>6269</td>\n",
       "      <td>4.0</td>\n",
       "    </tr>\n",
       "    <tr>\n",
       "      <th>100001</th>\n",
       "      <td>671</td>\n",
       "      <td>6365</td>\n",
       "      <td>4.0</td>\n",
       "    </tr>\n",
       "    <tr>\n",
       "      <th>100002</th>\n",
       "      <td>671</td>\n",
       "      <td>6385</td>\n",
       "      <td>2.5</td>\n",
       "    </tr>\n",
       "    <tr>\n",
       "      <th>100003</th>\n",
       "      <td>671</td>\n",
       "      <td>6565</td>\n",
       "      <td>3.5</td>\n",
       "    </tr>\n",
       "  </tbody>\n",
       "</table>\n",
       "<p>100004 rows × 3 columns</p>\n",
       "</div>"
      ],
      "text/plain": [
       "        userId  movieId  rating\n",
       "0            1       31     2.5\n",
       "1            1     1029     3.0\n",
       "2            1     1061     3.0\n",
       "3            1     1129     2.0\n",
       "4            1     1172     4.0\n",
       "...        ...      ...     ...\n",
       "99999      671     6268     2.5\n",
       "100000     671     6269     4.0\n",
       "100001     671     6365     4.0\n",
       "100002     671     6385     2.5\n",
       "100003     671     6565     3.5\n",
       "\n",
       "[100004 rows x 3 columns]"
      ]
     },
     "execution_count": 10,
     "metadata": {},
     "output_type": "execute_result"
    }
   ],
   "source": [
    "ratings_small_1 = ratings_small_original.copy() #making a copy so that any error in this one won't affect the original\n",
    "ratings_small_1.drop(['timestamp'], axis = 1) #dropping the timestamp column as it is not needed for training"
   ]
  },
  {
   "cell_type": "code",
   "execution_count": 11,
   "metadata": {},
   "outputs": [],
   "source": [
    "from surprise import Reader, Dataset #imports reader and dataset function\n",
    "reader = Reader() #since we are loading data from df, only need to specify rating, which is defaulted to 1-5\n",
    "ratings_small = Dataset.load_from_df(ratings_small_original[['userId', 'movieId', 'rating']], reader) #establishes dataset for suprise"
   ]
  },
  {
   "cell_type": "markdown",
   "metadata": {},
   "source": [
    "## Part C & D"
   ]
  },
  {
   "cell_type": "code",
   "execution_count": 12,
   "metadata": {},
   "outputs": [],
   "source": [
    "from surprise.model_selection import cross_validate #imports the cross validation function\n",
    "from surprise import SVD, KNNBasic #imports two algorithms for use in part c"
   ]
  },
  {
   "cell_type": "code",
   "execution_count": 17,
   "metadata": {},
   "outputs": [
    {
     "name": "stdout",
     "output_type": "stream",
     "text": [
      "Evaluating RMSE, MAE of algorithm SVD on 5 split(s).\n",
      "\n",
      "                  Fold 1  Fold 2  Fold 3  Fold 4  Fold 5  Mean    Std     \n",
      "RMSE (testset)    0.8973  0.8982  0.8963  0.8990  0.8933  0.8968  0.0020  \n",
      "MAE (testset)     0.6899  0.6921  0.6886  0.6926  0.6866  0.6900  0.0022  \n",
      "Fit time          3.01    2.96    2.97    2.98    2.95    2.97    0.02    \n",
      "Test time         0.08    0.08    0.13    0.13    0.08    0.10    0.02    \n"
     ]
    },
    {
     "data": {
      "text/plain": [
       "{'test_rmse': array([0.89732451, 0.89822065, 0.89627253, 0.89899288, 0.89325606]),\n",
       " 'test_mae': array([0.6898605 , 0.69213986, 0.68861252, 0.69264391, 0.68661311]),\n",
       " 'fit_time': (3.005741834640503,\n",
       "  2.964669704437256,\n",
       "  2.9722073078155518,\n",
       "  2.97822904586792,\n",
       "  2.945333242416382),\n",
       " 'test_time': (0.08007264137268066,\n",
       "  0.07706999778747559,\n",
       "  0.12511372566223145,\n",
       "  0.13011884689331055,\n",
       "  0.0790719985961914)}"
      ]
     },
     "execution_count": 17,
     "metadata": {},
     "output_type": "execute_result"
    }
   ],
   "source": [
    "svd_model = SVD() #creates the SVD model which is equivalent to PMF\n",
    "cross_validate(svd_model, ratings_small, verbose = True) #using the cross validation function. Default measures are RMSE and MAE. Default splits is 5."
   ]
  },
  {
   "cell_type": "code",
   "execution_count": 20,
   "metadata": {},
   "outputs": [
    {
     "name": "stdout",
     "output_type": "stream",
     "text": [
      "Computing the msd similarity matrix...\n",
      "Done computing similarity matrix.\n",
      "Computing the msd similarity matrix...\n",
      "Done computing similarity matrix.\n",
      "Computing the msd similarity matrix...\n",
      "Done computing similarity matrix.\n",
      "Computing the msd similarity matrix...\n",
      "Done computing similarity matrix.\n",
      "Computing the msd similarity matrix...\n",
      "Done computing similarity matrix.\n",
      "Evaluating RMSE, MAE of algorithm KNNBasic on 5 split(s).\n",
      "\n",
      "                  Fold 1  Fold 2  Fold 3  Fold 4  Fold 5  Mean    Std     \n",
      "RMSE (testset)    0.9708  0.9690  0.9550  0.9645  0.9802  0.9679  0.0082  \n",
      "MAE (testset)     0.7454  0.7456  0.7336  0.7427  0.7511  0.7437  0.0057  \n",
      "Fit time          0.11    0.12    0.12    0.12    0.12    0.12    0.01    \n",
      "Test time         1.02    0.94    0.95    1.00    0.99    0.98    0.03    \n"
     ]
    },
    {
     "data": {
      "text/plain": [
       "{'test_rmse': array([0.97077635, 0.96897599, 0.95500635, 0.96454148, 0.98019624]),\n",
       " 'test_mae': array([0.74538825, 0.74556703, 0.7335638 , 0.74266695, 0.7510738 ]),\n",
       " 'fit_time': (0.11010026931762695,\n",
       "  0.12311196327209473,\n",
       "  0.11910843849182129,\n",
       "  0.12311196327209473,\n",
       "  0.12311196327209473),\n",
       " 'test_time': (1.0239312648773193,\n",
       "  0.9363553524017334,\n",
       "  0.9488627910614014,\n",
       "  0.9989087581634521,\n",
       "  0.987905740737915)}"
      ]
     },
     "execution_count": 20,
     "metadata": {},
     "output_type": "execute_result"
    }
   ],
   "source": [
    "user_based_CF = KNNBasic(sim_options = {'user based': True}) #creates the user based CF by setting the sim options for user based to True in KNNBasic\n",
    "cross_validate(user_based_CF, ratings_small, verbose = True)"
   ]
  },
  {
   "cell_type": "code",
   "execution_count": 21,
   "metadata": {},
   "outputs": [
    {
     "name": "stdout",
     "output_type": "stream",
     "text": [
      "Computing the msd similarity matrix...\n",
      "Done computing similarity matrix.\n",
      "Computing the msd similarity matrix...\n",
      "Done computing similarity matrix.\n",
      "Computing the msd similarity matrix...\n",
      "Done computing similarity matrix.\n",
      "Computing the msd similarity matrix...\n",
      "Done computing similarity matrix.\n",
      "Computing the msd similarity matrix...\n",
      "Done computing similarity matrix.\n",
      "Evaluating RMSE, MAE of algorithm KNNBasic on 5 split(s).\n",
      "\n",
      "                  Fold 1  Fold 2  Fold 3  Fold 4  Fold 5  Mean    Std     \n",
      "RMSE (testset)    0.9765  0.9611  0.9656  0.9693  0.9640  0.9673  0.0053  \n",
      "MAE (testset)     0.7496  0.7408  0.7425  0.7454  0.7408  0.7438  0.0033  \n",
      "Fit time          0.11    0.12    0.12    0.12    0.13    0.12    0.01    \n",
      "Test time         1.01    0.96    0.95    1.01    1.01    0.99    0.03    \n"
     ]
    },
    {
     "data": {
      "text/plain": [
       "{'test_rmse': array([0.97647078, 0.96114862, 0.9656081 , 0.96927044, 0.96398087]),\n",
       " 'test_mae': array([0.74960838, 0.74075806, 0.74246869, 0.74538174, 0.74084235]),\n",
       " 'fit_time': (0.10909914970397949,\n",
       "  0.12211132049560547,\n",
       "  0.11910843849182129,\n",
       "  0.12361645698547363,\n",
       "  0.13011765480041504),\n",
       " 'test_time': (1.01292085647583,\n",
       "  0.9648776054382324,\n",
       "  0.9538674354553223,\n",
       "  1.0142312049865723,\n",
       "  1.0051729679107666)}"
      ]
     },
     "execution_count": 21,
     "metadata": {},
     "output_type": "execute_result"
    }
   ],
   "source": [
    "item_based_CF = KNNBasic(sim_options = {'user based': False}) #creates the item based CF by setting the sim options for user based to True in KNNBasic\n",
    "cross_validate(item_based_CF, ratings_small, verbose = True)"
   ]
  },
  {
   "cell_type": "markdown",
   "metadata": {},
   "source": [
    "## Part E"
   ]
  },
  {
   "cell_type": "code",
   "execution_count": 22,
   "metadata": {},
   "outputs": [],
   "source": [
    "UBCF_cosine = KNNBasic(sim_options ={'name':'cosine','user based':True}) #creates the UBCF with cosine similarity\n",
    "UBCF_msd = KNNBasic(sim_options ={'user based':True}) #default name is MSD\n",
    "UBCF_pearson = KNNBasic(sim_options ={'name':'pearson','user based':True}) #creates the UBCF with pearson similarity\n",
    "\n",
    "IBCF_cosine = KNNBasic(sim_options ={'name':'cosine','user based':False}) #creates the IBCF with cosine similarity\n",
    "IBCF_msd = KNNBasic(sim_options ={'user based':False})\n",
    "IBCF_pearson = KNNBasic(sim_options ={'name':'pearson','user based':False}) #creates the IBCF with pearson similarity"
   ]
  },
  {
   "cell_type": "code",
   "execution_count": 25,
   "metadata": {},
   "outputs": [],
   "source": [
    "#creating a trainset/testset from data with testset = 20%\n",
    "from surprise.model_selection import train_test_split\n",
    "trainset, testset = train_test_split(ratings_small, test_size=.20)"
   ]
  },
  {
   "cell_type": "code",
   "execution_count": 26,
   "metadata": {},
   "outputs": [
    {
     "name": "stdout",
     "output_type": "stream",
     "text": [
      "Computing the cosine similarity matrix...\n",
      "Done computing similarity matrix.\n",
      "Computing the msd similarity matrix...\n",
      "Done computing similarity matrix.\n",
      "Computing the pearson similarity matrix...\n",
      "Done computing similarity matrix.\n",
      "Computing the cosine similarity matrix...\n",
      "Done computing similarity matrix.\n",
      "Computing the msd similarity matrix...\n",
      "Done computing similarity matrix.\n",
      "Computing the pearson similarity matrix...\n",
      "Done computing similarity matrix.\n"
     ]
    }
   ],
   "source": [
    "pred_UBCF_cos = UBCF_cosine.fit(trainset).test(testset) \n",
    "pred_UBCF_msd = UBCF_msd.fit(trainset).test(testset)\n",
    "pred_UBCF_pearson = UBCF_pearson.fit(trainset).test(testset)\n",
    "\n",
    "pred_IBCF_cos = IBCF_cosine.fit(trainset).test(testset)\n",
    "pred_IBCF_msd = IBCF_msd.fit(trainset).test(testset)\n",
    "pred_IBCF_pearson = IBCF_pearson.fit(trainset).test(testset)"
   ]
  },
  {
   "cell_type": "code",
   "execution_count": 28,
   "metadata": {},
   "outputs": [
    {
     "name": "stdout",
     "output_type": "stream",
     "text": [
      "RMSE: 0.9938\n",
      "RMSE: 0.9673\n",
      "RMSE: 0.9980\n",
      "RMSE: 0.9938\n",
      "RMSE: 0.9673\n",
      "RMSE: 0.9980\n"
     ]
    }
   ],
   "source": [
    "# using RMSE as the accuracy\n",
    "from surprise import accuracy\n",
    "acc_UBCF_cos = accuracy.rmse(pred_UBCF_cos)\n",
    "acc_UBCF_msd = accuracy.rmse(pred_UBCF_msd)\n",
    "acc_UBCF_pearson = accuracy.rmse(pred_UBCF_pearson)\n",
    "\n",
    "acc_IBCF_cos = accuracy.rmse(pred_IBCF_cos)\n",
    "acc_IBCF_msd = accuracy.rmse(pred_UBCF_msd)\n",
    "acc_IBCF_pearson = accuracy.rmse(pred_IBCF_pearson)"
   ]
  },
  {
   "cell_type": "code",
   "execution_count": 37,
   "metadata": {},
   "outputs": [
    {
     "data": {
      "text/plain": [
       "Text(0.5, 1.0, 'User-Based CF')"
      ]
     },
     "execution_count": 37,
     "metadata": {},
     "output_type": "execute_result"
    },
    {
     "data": {
      "image/png": "[encoded data removed]",
      "text/plain": [
       "<Figure size 432x288 with 1 Axes>"
      ]
     },
     "metadata": {
      "needs_background": "light"
     },
     "output_type": "display_data"
    }
   ],
   "source": [
    "import matplotlib.pyplot as plt\n",
    "left = [1,2,3]\n",
    "height = [acc_UBCF_cos, acc_UBCF_msd, acc_UBCF_pearson]\n",
    "tick_label = ['Cosine', 'MSD', 'Pearson']\n",
    "plt.bar(left, height, tick_label = tick_label)\n",
    "plt.ylim(0.955,1)\n",
    "plt.xlabel('Similarity Metric')\n",
    "plt.ylabel('Predicted Value (RMSE)')\n",
    "plt.title('User-Based CF')"
   ]
  },
  {
   "cell_type": "code",
   "execution_count": 38,
   "metadata": {},
   "outputs": [
    {
     "data": {
      "text/plain": [
       "Text(0.5, 1.0, 'Item-Based CF')"
      ]
     },
     "execution_count": 38,
     "metadata": {},
     "output_type": "execute_result"
    },
    {
     "data": {
      "image/png": "[encoded data removed]",
      "text/plain": [
       "<Figure size 432x288 with 1 Axes>"
      ]
     },
     "metadata": {
      "needs_background": "light"
     },
     "output_type": "display_data"
    }
   ],
   "source": [
    "left = [1,2,3]\n",
    "height = [acc_IBCF_cos, acc_IBCF_msd, acc_IBCF_pearson]\n",
    "tick_label = ['Cosine', 'MSD', 'Pearson']\n",
    "plt.bar(left, height, tick_label = tick_label)\n",
    "plt.ylim(0.955,1)\n",
    "plt.xlabel('Similarity Metric')\n",
    "plt.ylabel('Predicted Value (RMSE)')\n",
    "plt.title('Item-Based CF')"
   ]
  },
  {
   "cell_type": "markdown",
   "metadata": {},
   "source": [
    "## Part F"
   ]
  },
  {
   "cell_type": "markdown",
   "metadata": {},
   "source": [
    "### User - Based CF"
   ]
  },
  {
   "cell_type": "code",
   "execution_count": 41,
   "metadata": {},
   "outputs": [],
   "source": [
    "#setting max number of k to 1, 5 ,10 ,20 ,40 ,80\n",
    "UBCF_1k = KNNBasic(k=1) \n",
    "UBCF_5k = KNNBasic(k=5)\n",
    "UBCF_10k = KNNBasic(k=10)\n",
    "UBCF_20k = KNNBasic(k=20)\n",
    "UBCF_40k = KNNBasic(k=40)\n",
    "UBCF_80k = KNNBasic(k=80)\n"
   ]
  },
  {
   "cell_type": "code",
   "execution_count": 42,
   "metadata": {},
   "outputs": [
    {
     "name": "stdout",
     "output_type": "stream",
     "text": [
      "Computing the msd similarity matrix...\n",
      "Done computing similarity matrix.\n",
      "Computing the msd similarity matrix...\n",
      "Done computing similarity matrix.\n",
      "Computing the msd similarity matrix...\n",
      "Done computing similarity matrix.\n",
      "Computing the msd similarity matrix...\n",
      "Done computing similarity matrix.\n",
      "Computing the msd similarity matrix...\n",
      "Done computing similarity matrix.\n",
      "Computing the msd similarity matrix...\n",
      "Done computing similarity matrix.\n"
     ]
    }
   ],
   "source": [
    "pred_UBCF_1k = UBCF_1k.fit(trainset).test(testset)\n",
    "pred_UBCF_5k = UBCF_5k.fit(trainset).test(testset)\n",
    "pred_UBCF_10k = UBCF_10k.fit(trainset).test(testset)\n",
    "pred_UBCF_20k = UBCF_20k.fit(trainset).test(testset)\n",
    "pred_UBCF_40k = UBCF_40k.fit(trainset).test(testset)\n",
    "pred_UBCF_80k = UBCF_80k.fit(trainset).test(testset)"
   ]
  },
  {
   "cell_type": "code",
   "execution_count": 43,
   "metadata": {},
   "outputs": [
    {
     "name": "stdout",
     "output_type": "stream",
     "text": [
      "RMSE: 1.1969\n",
      "RMSE: 0.9836\n",
      "RMSE: 0.9629\n",
      "RMSE: 0.9620\n",
      "RMSE: 0.9673\n",
      "RMSE: 0.9735\n"
     ]
    }
   ],
   "source": [
    "acc_UBCF_1k = accuracy.rmse(pred_UBCF_1k)\n",
    "acc_UBCF_5k = accuracy.rmse(pred_UBCF_5k)\n",
    "acc_UBCF_10k = accuracy.rmse(pred_UBCF_10k)\n",
    "acc_UBCF_20k = accuracy.rmse(pred_UBCF_20k)\n",
    "acc_UBCF_40k = accuracy.rmse(pred_UBCF_40k)\n",
    "acc_UBCF_80k = accuracy.rmse(pred_UBCF_80k)"
   ]
  },
  {
   "cell_type": "code",
   "execution_count": 46,
   "metadata": {},
   "outputs": [
    {
     "data": {
      "text/plain": [
       "Text(0.5, 1.0, 'User-Based CF')"
      ]
     },
     "execution_count": 46,
     "metadata": {},
     "output_type": "execute_result"
    },
    {
     "data": {
      "image/png": "[encoded data removed]",
      "text/plain": [
       "<Figure size 432x288 with 1 Axes>"
      ]
     },
     "metadata": {
      "needs_background": "light"
     },
     "output_type": "display_data"
    }
   ],
   "source": [
    "left = [1,2,3,4,5,6]\n",
    "height = [acc_UBCF_1k, acc_UBCF_5k, acc_UBCF_10k, acc_UBCF_20k, acc_UBCF_40k, acc_UBCF_80k]\n",
    "tick_label = ['1', '5', '10', '20', '40', '80']\n",
    "plt.bar(left, height, tick_label = tick_label)\n",
    "plt.ylim(0.9,1.25)\n",
    "plt.xlabel('# of K')\n",
    "plt.ylabel('Predicted Value (RMSE)')\n",
    "plt.title('User-Based CF')"
   ]
  },
  {
   "cell_type": "code",
   "execution_count": 47,
   "metadata": {},
   "outputs": [],
   "source": [
    "IBCF_1k = KNNBasic(k=1, sim_options ={'user based':False}) \n",
    "IBCF_5k = KNNBasic(k=5, sim_options ={'user based':False})\n",
    "IBCF_10k = KNNBasic(k=10, sim_options ={'user based':False})\n",
    "IBCF_20k = KNNBasic(k=20, sim_options ={'user based':False})\n",
    "IBCF_40k = KNNBasic(k=40, sim_options ={'user based':False})\n",
    "IBCF_80k = KNNBasic(k=80, sim_options ={'user based':False})"
   ]
  },
  {
   "cell_type": "code",
   "execution_count": 48,
   "metadata": {
    "scrolled": true
   },
   "outputs": [
    {
     "name": "stdout",
     "output_type": "stream",
     "text": [
      "Computing the msd similarity matrix...\n",
      "Done computing similarity matrix.\n",
      "Computing the msd similarity matrix...\n",
      "Done computing similarity matrix.\n",
      "Computing the msd similarity matrix...\n",
      "Done computing similarity matrix.\n",
      "Computing the msd similarity matrix...\n",
      "Done computing similarity matrix.\n",
      "Computing the msd similarity matrix...\n",
      "Done computing similarity matrix.\n",
      "Computing the msd similarity matrix...\n",
      "Done computing similarity matrix.\n"
     ]
    }
   ],
   "source": [
    "pred_IBCF_1k = IBCF_1k.fit(trainset).test(testset)\n",
    "pred_IBCF_5k = IBCF_5k.fit(trainset).test(testset)\n",
    "pred_IBCF_10k = IBCF_10k.fit(trainset).test(testset)\n",
    "pred_IBCF_20k = IBCF_20k.fit(trainset).test(testset)\n",
    "pred_IBCF_40k = IBCF_40k.fit(trainset).test(testset)\n",
    "pred_IBCF_80k = IBCF_80k.fit(trainset).test(testset)"
   ]
  },
  {
   "cell_type": "code",
   "execution_count": 49,
   "metadata": {},
   "outputs": [
    {
     "name": "stdout",
     "output_type": "stream",
     "text": [
      "RMSE: 1.1969\n",
      "RMSE: 0.9836\n",
      "RMSE: 0.9629\n",
      "RMSE: 0.9620\n",
      "RMSE: 0.9673\n",
      "RMSE: 0.9735\n"
     ]
    }
   ],
   "source": [
    "acc_IBCF_1k = accuracy.rmse(pred_IBCF_1k)\n",
    "acc_IBCF_5k = accuracy.rmse(pred_IBCF_5k)\n",
    "acc_IBCF_10k = accuracy.rmse(pred_IBCF_10k)\n",
    "acc_IBCF_20k = accuracy.rmse(pred_IBCF_20k)\n",
    "acc_IBCF_40k = accuracy.rmse(pred_IBCF_40k)\n",
    "acc_IBCF_80k = accuracy.rmse(pred_IBCF_80k)"
   ]
  },
  {
   "cell_type": "code",
   "execution_count": 50,
   "metadata": {},
   "outputs": [
    {
     "data": {
      "text/plain": [
       "Text(0.5, 1.0, 'Item-Based CF')"
      ]
     },
     "execution_count": 50,
     "metadata": {},
     "output_type": "execute_result"
    },
    {
     "data": {
      "image/png": "[encoded data removed]",
      "text/plain": [
       "<Figure size 432x288 with 1 Axes>"
      ]
     },
     "metadata": {
      "needs_background": "light"
     },
     "output_type": "display_data"
    }
   ],
   "source": [
    "left = [1,2,3,4,5,6]\n",
    "height = [acc_IBCF_1k, acc_IBCF_5k, acc_IBCF_10k, acc_IBCF_20k, acc_IBCF_40k, acc_IBCF_80k]\n",
    "tick_label = ['1', '5', '10', '20', '40', '80']\n",
    "plt.bar(left, height, tick_label = tick_label)\n",
    "plt.ylim(0.9,1.25)\n",
    "plt.xlabel('# of K')\n",
    "plt.ylabel('Predicted Value (RMSE)')\n",
    "plt.title('Item-Based CF')"
   ]
  },
  {
   "cell_type": "markdown",
   "metadata": {},
   "source": [
    "## Part G"
   ]
  },
  {
   "cell_type": "code",
   "execution_count": 64,
   "metadata": {},
   "outputs": [
    {
     "name": "stdout",
     "output_type": "stream",
     "text": [
      "Computing the msd similarity matrix...\n",
      "Done computing similarity matrix.\n",
      "RMSE: 0.9609\n"
     ]
    }
   ],
   "source": [
    "UBCF_bestk = KNNBasic(k=15) #found after manually iteration through and verifying the function\n",
    "\n",
    "pred_UBCF_bestk = UBCF_bestk.fit(trainset).test(testset)\n",
    "\n",
    "acc_UBCF_bestk = accuracy.rmse(pred_UBCF_bestk)"
   ]
  },
  {
   "cell_type": "code",
   "execution_count": 69,
   "metadata": {},
   "outputs": [
    {
     "name": "stdout",
     "output_type": "stream",
     "text": [
      "Computing the msd similarity matrix...\n",
      "Done computing similarity matrix.\n",
      "RMSE: 0.9609\n"
     ]
    }
   ],
   "source": [
    "IBCF_bestk = KNNBasic(k=15) #found after manually iteration through and verifying the function\n",
    "\n",
    "pred_IBCF_bestk = IBCF_bestk.fit(trainset).test(testset)\n",
    "\n",
    "acc_IBCF_bestk = accuracy.rmse(pred_IBCF_bestk)"
   ]
  },
  {
   "cell_type": "code",
   "execution_count": null,
   "metadata": {},
   "outputs": [],
   "source": []
  }
 ],
 "metadata": {
  "kernelspec": {
   "display_name": "Python 3",
   "language": "python",
   "name": "python3"
  },
  "language_info": {
   "codemirror_mode": {
    "name": "ipython",
    "version": 3
   },
   "file_extension": ".py",
   "mimetype": "text/x-python",
   "name": "python",
   "nbconvert_exporter": "python",
   "pygments_lexer": "ipython3",
   "version": "3.8.5"
  }
 },
 "nbformat": 4,
 "nbformat_minor": 4
}
